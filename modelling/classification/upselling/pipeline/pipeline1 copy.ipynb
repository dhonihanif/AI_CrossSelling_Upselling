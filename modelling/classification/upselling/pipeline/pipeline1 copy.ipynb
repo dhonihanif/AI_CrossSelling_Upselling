{
 "cells": [
  {
   "cell_type": "code",
   "execution_count": 1,
   "metadata": {},
   "outputs": [],
   "source": [
    "import numpy as np\n",
    "import pandas as pd\n",
    "import matplotlib.pyplot as plt\n",
    "import seaborn as sns\n",
    "import joblib\n",
    "\n",
    "from sklearn.model_selection import train_test_split, GridSearchCV\n",
    "from sklearn.preprocessing import MinMaxScaler, LabelEncoder, OrdinalEncoder\n",
    "from sklearn.pipeline import Pipeline  \n",
    "from sklearn.compose import ColumnTransformer\n",
    "from sklearn.impute import SimpleImputer\n",
    "from sklearn.base import BaseEstimator, TransformerMixin\n",
    "from sklearn.metrics import confusion_matrix, classification_report, roc_auc_score, roc_curve"
   ]
  },
  {
   "cell_type": "code",
   "execution_count": 2,
   "metadata": {},
   "outputs": [
    {
     "data": {
      "text/html": [
       "<div>\n",
       "<style scoped>\n",
       "    .dataframe tbody tr th:only-of-type {\n",
       "        vertical-align: middle;\n",
       "    }\n",
       "\n",
       "    .dataframe tbody tr th {\n",
       "        vertical-align: top;\n",
       "    }\n",
       "\n",
       "    .dataframe thead th {\n",
       "        text-align: right;\n",
       "    }\n",
       "</style>\n",
       "<table border=\"1\" class=\"dataframe\">\n",
       "  <thead>\n",
       "    <tr style=\"text-align: right;\">\n",
       "      <th></th>\n",
       "      <th>Unnamed: 0</th>\n",
       "      <th>company_ID</th>\n",
       "      <th>company_name</th>\n",
       "      <th>company_pic</th>\n",
       "      <th>company_address</th>\n",
       "      <th>company_phone</th>\n",
       "      <th>company_email</th>\n",
       "      <th>company_field</th>\n",
       "      <th>transaction_date</th>\n",
       "      <th>level_training_process</th>\n",
       "      <th>...</th>\n",
       "      <th>trainer_name</th>\n",
       "      <th>training_price</th>\n",
       "      <th>discount_training</th>\n",
       "      <th>satisfaction_level</th>\n",
       "      <th>training_session</th>\n",
       "      <th>number_of_participant</th>\n",
       "      <th>training_field</th>\n",
       "      <th>training_name</th>\n",
       "      <th>cross_selling</th>\n",
       "      <th>upselling</th>\n",
       "    </tr>\n",
       "  </thead>\n",
       "  <tbody>\n",
       "    <tr>\n",
       "      <th>0</th>\n",
       "      <td>0</td>\n",
       "      <td>P0001</td>\n",
       "      <td>Tribakti Inspektama</td>\n",
       "      <td>Lasmanto Pratiwi</td>\n",
       "      <td>Jalan Cihampelas No. 282\\nPontianak, Kalimanta...</td>\n",
       "      <td>+62 (183) 655 1415</td>\n",
       "      <td>muhammadnasyidah@example.org</td>\n",
       "      <td>Aktivitas Keuangan dan Asuransi</td>\n",
       "      <td>2020-01-01</td>\n",
       "      <td>5</td>\n",
       "      <td>...</td>\n",
       "      <td>Ibun</td>\n",
       "      <td>6000000.0</td>\n",
       "      <td>50</td>\n",
       "      <td>5</td>\n",
       "      <td>17</td>\n",
       "      <td>18</td>\n",
       "      <td>Sales &amp; Marketing Series</td>\n",
       "      <td>Sales Forecasting: for Sales Target Results</td>\n",
       "      <td>Powerful Closing Technique</td>\n",
       "      <td>Sales Forecasting: for Sales Target Results</td>\n",
       "    </tr>\n",
       "    <tr>\n",
       "      <th>1</th>\n",
       "      <td>1</td>\n",
       "      <td>P0002</td>\n",
       "      <td>Bank Bukopin Syariah</td>\n",
       "      <td>Puti Gina Napitupulu</td>\n",
       "      <td>Jalan Tubagus Ismail No. 02\\nSukabumi, BB 74318</td>\n",
       "      <td>(097) 773 7113</td>\n",
       "      <td>januarkamaria@example.net</td>\n",
       "      <td>Aktivitas Badan Internasional Dan Badan Ekstra...</td>\n",
       "      <td>2020-01-02</td>\n",
       "      <td>5</td>\n",
       "      <td>...</td>\n",
       "      <td>Reza</td>\n",
       "      <td>6000000.0</td>\n",
       "      <td>50</td>\n",
       "      <td>5</td>\n",
       "      <td>17</td>\n",
       "      <td>18</td>\n",
       "      <td>Sales &amp; Marketing Series</td>\n",
       "      <td>Sales Forecasting: for Sales Target Results</td>\n",
       "      <td>Powerful Closing Technique</td>\n",
       "      <td>Sales Forecasting: for Sales Target Results</td>\n",
       "    </tr>\n",
       "    <tr>\n",
       "      <th>2</th>\n",
       "      <td>2</td>\n",
       "      <td>P0003</td>\n",
       "      <td>Bank Bukopin Syariah</td>\n",
       "      <td>Karna Purwanti, S.I.Kom</td>\n",
       "      <td>Gg. Pelajar Pejuang No. 660\\nJambi, Jambi 60449</td>\n",
       "      <td>+62 (0801) 007-5669</td>\n",
       "      <td>rprasetyo@example.net</td>\n",
       "      <td>Pengadaan Listrik, Gas, Uap/Air Panas Dan Udar...</td>\n",
       "      <td>2020-01-03</td>\n",
       "      <td>5</td>\n",
       "      <td>...</td>\n",
       "      <td>Ibun</td>\n",
       "      <td>6000000.0</td>\n",
       "      <td>50</td>\n",
       "      <td>5</td>\n",
       "      <td>17</td>\n",
       "      <td>19</td>\n",
       "      <td>Sales &amp; Marketing Series</td>\n",
       "      <td>Sales Forecasting: for Sales Target Results</td>\n",
       "      <td>Powerful Closing Technique</td>\n",
       "      <td>Sales Forecasting: for Sales Target Results</td>\n",
       "    </tr>\n",
       "    <tr>\n",
       "      <th>3</th>\n",
       "      <td>3</td>\n",
       "      <td>P0004</td>\n",
       "      <td>Kementrian Agama</td>\n",
       "      <td>Tania Yolanda</td>\n",
       "      <td>Jl. Cihampelas No. 8\\nTual, ST 59647</td>\n",
       "      <td>+62-0247-253-2150</td>\n",
       "      <td>iswahyudiraisa@example.net</td>\n",
       "      <td>Konstruksi</td>\n",
       "      <td>2020-01-04</td>\n",
       "      <td>5</td>\n",
       "      <td>...</td>\n",
       "      <td>Reza</td>\n",
       "      <td>6000000.0</td>\n",
       "      <td>50</td>\n",
       "      <td>5</td>\n",
       "      <td>17</td>\n",
       "      <td>18</td>\n",
       "      <td>Sales &amp; Marketing Series</td>\n",
       "      <td>Sales Forecasting: for Sales Target Results</td>\n",
       "      <td>Powerful Closing Technique</td>\n",
       "      <td>Sales Forecasting: for Sales Target Results</td>\n",
       "    </tr>\n",
       "    <tr>\n",
       "      <th>4</th>\n",
       "      <td>4</td>\n",
       "      <td>P0005</td>\n",
       "      <td>M3kom</td>\n",
       "      <td>Zaenab Anggriawan</td>\n",
       "      <td>Gang Moch. Ramdan No. 083\\nPayakumbuh, SS 13214</td>\n",
       "      <td>(025) 406 2520</td>\n",
       "      <td>mulyono67@example.com</td>\n",
       "      <td>Informasi Dan Komunikasi</td>\n",
       "      <td>2020-01-05</td>\n",
       "      <td>5</td>\n",
       "      <td>...</td>\n",
       "      <td>Haris</td>\n",
       "      <td>6000000.0</td>\n",
       "      <td>50</td>\n",
       "      <td>5</td>\n",
       "      <td>17</td>\n",
       "      <td>19</td>\n",
       "      <td>Sales &amp; Marketing Series</td>\n",
       "      <td>Sales Forecasting: for Sales Target Results</td>\n",
       "      <td>Powerful Closing Technique</td>\n",
       "      <td>Sales Forecasting: for Sales Target Results</td>\n",
       "    </tr>\n",
       "  </tbody>\n",
       "</table>\n",
       "<p>5 rows × 35 columns</p>\n",
       "</div>"
      ],
      "text/plain": [
       "   Unnamed: 0 company_ID          company_name              company_pic  \\\n",
       "0           0      P0001   Tribakti Inspektama         Lasmanto Pratiwi   \n",
       "1           1      P0002  Bank Bukopin Syariah     Puti Gina Napitupulu   \n",
       "2           2      P0003  Bank Bukopin Syariah  Karna Purwanti, S.I.Kom   \n",
       "3           3      P0004      Kementrian Agama            Tania Yolanda   \n",
       "4           4      P0005                 M3kom        Zaenab Anggriawan   \n",
       "\n",
       "                                     company_address        company_phone  \\\n",
       "0  Jalan Cihampelas No. 282\\nPontianak, Kalimanta...   +62 (183) 655 1415   \n",
       "1    Jalan Tubagus Ismail No. 02\\nSukabumi, BB 74318       (097) 773 7113   \n",
       "2    Gg. Pelajar Pejuang No. 660\\nJambi, Jambi 60449  +62 (0801) 007-5669   \n",
       "3               Jl. Cihampelas No. 8\\nTual, ST 59647    +62-0247-253-2150   \n",
       "4    Gang Moch. Ramdan No. 083\\nPayakumbuh, SS 13214       (025) 406 2520   \n",
       "\n",
       "                  company_email  \\\n",
       "0  muhammadnasyidah@example.org   \n",
       "1     januarkamaria@example.net   \n",
       "2         rprasetyo@example.net   \n",
       "3    iswahyudiraisa@example.net   \n",
       "4         mulyono67@example.com   \n",
       "\n",
       "                                       company_field transaction_date  \\\n",
       "0                    Aktivitas Keuangan dan Asuransi       2020-01-01   \n",
       "1  Aktivitas Badan Internasional Dan Badan Ekstra...       2020-01-02   \n",
       "2  Pengadaan Listrik, Gas, Uap/Air Panas Dan Udar...       2020-01-03   \n",
       "3                                         Konstruksi       2020-01-04   \n",
       "4                           Informasi Dan Komunikasi       2020-01-05   \n",
       "\n",
       "   level_training_process  ... trainer_name  training_price discount_training  \\\n",
       "0                       5  ...         Ibun       6000000.0                50   \n",
       "1                       5  ...         Reza       6000000.0                50   \n",
       "2                       5  ...         Ibun       6000000.0                50   \n",
       "3                       5  ...         Reza       6000000.0                50   \n",
       "4                       5  ...        Haris       6000000.0                50   \n",
       "\n",
       "   satisfaction_level  training_session number_of_participant  \\\n",
       "0                   5                17                    18   \n",
       "1                   5                17                    18   \n",
       "2                   5                17                    19   \n",
       "3                   5                17                    18   \n",
       "4                   5                17                    19   \n",
       "\n",
       "             training_field                                training_name  \\\n",
       "0  Sales & Marketing Series  Sales Forecasting: for Sales Target Results   \n",
       "1  Sales & Marketing Series  Sales Forecasting: for Sales Target Results   \n",
       "2  Sales & Marketing Series  Sales Forecasting: for Sales Target Results   \n",
       "3  Sales & Marketing Series  Sales Forecasting: for Sales Target Results   \n",
       "4  Sales & Marketing Series  Sales Forecasting: for Sales Target Results   \n",
       "\n",
       "                cross_selling                                    upselling  \n",
       "0  Powerful Closing Technique  Sales Forecasting: for Sales Target Results  \n",
       "1  Powerful Closing Technique  Sales Forecasting: for Sales Target Results  \n",
       "2  Powerful Closing Technique  Sales Forecasting: for Sales Target Results  \n",
       "3  Powerful Closing Technique  Sales Forecasting: for Sales Target Results  \n",
       "4  Powerful Closing Technique  Sales Forecasting: for Sales Target Results  \n",
       "\n",
       "[5 rows x 35 columns]"
      ]
     },
     "execution_count": 2,
     "metadata": {},
     "output_type": "execute_result"
    }
   ],
   "source": [
    "df = pd.read_csv(r\"C:\\Users\\DHONI HANIF\\OneDrive\\Documents\\AI Sales Cross Selling and UpSelling\\data\\dataset\\Sales & Marketing Series.csv\")\n",
    "df.head()"
   ]
  },
  {
   "cell_type": "code",
   "execution_count": 3,
   "metadata": {},
   "outputs": [
    {
     "name": "stdout",
     "output_type": "stream",
     "text": [
      "<class 'pandas.core.frame.DataFrame'>\n",
      "RangeIndex: 5000 entries, 0 to 4999\n",
      "Data columns (total 35 columns):\n",
      " #   Column                                       Non-Null Count  Dtype  \n",
      "---  ------                                       --------------  -----  \n",
      " 0   Unnamed: 0                                   5000 non-null   int64  \n",
      " 1   company_ID                                   5000 non-null   object \n",
      " 2   company_name                                 5000 non-null   object \n",
      " 3   company_pic                                  5000 non-null   object \n",
      " 4   company_address                              5000 non-null   object \n",
      " 5   company_phone                                5000 non-null   object \n",
      " 6   company_email                                5000 non-null   object \n",
      " 7   company_field                                5000 non-null   object \n",
      " 8   transaction_date                             5000 non-null   object \n",
      " 9   level_training_process                       5000 non-null   int64  \n",
      " 10  purchasing_time_patterns                     5000 non-null   object \n",
      " 11  number_of_participants                       5000 non-null   int64  \n",
      " 12  group                                        5000 non-null   object \n",
      " 13  total_payment                                5000 non-null   float64\n",
      " 14  satisfaction                                 5000 non-null   int64  \n",
      " 15  communication_channel                        5000 non-null   object \n",
      " 16  complaints                                   5000 non-null   object \n",
      " 17  communication_quality                        5000 non-null   object \n",
      " 18  possibility_of_purchasing_the_same_training  5000 non-null   int64  \n",
      " 19  frequency_engagement                         5000 non-null   int64  \n",
      " 20  brand_sustainability                         5000 non-null   int64  \n",
      " 21  rating_training                              5000 non-null   int64  \n",
      " 22  tren_mode_factor                             5000 non-null   object \n",
      " 23  interest_in_discount_program                 5000 non-null   int64  \n",
      " 24  training_ID                                  5000 non-null   object \n",
      " 25  trainer_name                                 5000 non-null   object \n",
      " 26  training_price                               5000 non-null   float64\n",
      " 27  discount_training                            5000 non-null   int64  \n",
      " 28  satisfaction_level                           5000 non-null   int64  \n",
      " 29  training_session                             5000 non-null   int64  \n",
      " 30  number_of_participant                        5000 non-null   int64  \n",
      " 31  training_field                               5000 non-null   object \n",
      " 32  training_name                                5000 non-null   object \n",
      " 33  cross_selling                                5000 non-null   object \n",
      " 34  upselling                                    5000 non-null   object \n",
      "dtypes: float64(2), int64(13), object(20)\n",
      "memory usage: 1.3+ MB\n"
     ]
    }
   ],
   "source": [
    "df.info()"
   ]
  },
  {
   "cell_type": "code",
   "execution_count": 4,
   "metadata": {},
   "outputs": [],
   "source": [
    "for i in df.columns:\n",
    "    if df[i].dtype == \"object\":\n",
    "        df[i] = df[i].astype(\"category\")\n",
    "\n",
    "df.drop(\"cross_selling\", axis=1, inplace=True)"
   ]
  },
  {
   "cell_type": "code",
   "execution_count": 5,
   "metadata": {},
   "outputs": [],
   "source": [
    "X = df.drop(\"upselling\", axis=1)\n",
    "y = df[\"upselling\"]\n",
    "\n",
    "X_train, X_test, y_train, y_test = train_test_split(X, y, test_size=.2, random_state=42)\n",
    "\n",
    "model = joblib.load(r\"./pipeline_save/pipeline1.joblib\")\n"
   ]
  },
  {
   "cell_type": "code",
   "execution_count": 6,
   "metadata": {},
   "outputs": [
    {
     "data": {
      "image/png": "[encoded data removed]",
      "text/plain": [
       "<Figure size 1000x500 with 4 Axes>"
      ]
     },
     "metadata": {},
     "output_type": "display_data"
    }
   ],
   "source": [
    "y_pred = model.predict(X_test)\n",
    "fig, ax = plt.subplots(1, 2, figsize=(10, 5), layout=\"constrained\")\n",
    "sns.heatmap(confusion_matrix(y_train, model.predict(X_train)), annot=True, fmt=\"d\", linecolor=\"white\", linewidths=0.2, cmap=\"winter\", ax=ax[0])\n",
    "sns.heatmap(confusion_matrix(y_test, y_pred), annot=True, fmt=\"d\", linecolor=\"white\", linewidths=0.2, cmap=\"winter\", ax=ax[1])\n",
    "\n",
    "ax[0].set_title(\"Training\")\n",
    "ax[1].set_title(\"Testing\")\n",
    "plt.show()\n"
   ]
  },
  {
   "cell_type": "code",
   "execution_count": 7,
   "metadata": {},
   "outputs": [
    {
     "name": "stdout",
     "output_type": "stream",
     "text": [
      "                                                   precision    recall  f1-score   support\n",
      "\n",
      "          Advanced Digital Marketing & Foundation       0.88      0.83      0.85       123\n",
      "       Marketing Research For Business Using SPSS       0.92      0.93      0.93       106\n",
      "              Optimizing in Growing Your Business       0.89      0.91      0.90       129\n",
      "                       Powerful Closing Technique       0.89      0.91      0.90       130\n",
      "Presentation & Selling Skills Using Story-Telling       0.94      0.93      0.93       121\n",
      "                      Professional Selling Skills       0.91      0.94      0.92       130\n",
      "      Sales Forecasting: for Sales Target Results       0.91      0.90      0.91       140\n",
      "            Social Selling: Optimizing Engagement       0.88      0.88      0.88       121\n",
      "\n",
      "                                         accuracy                           0.90      1000\n",
      "                                        macro avg       0.90      0.90      0.90      1000\n",
      "                                     weighted avg       0.90      0.90      0.90      1000\n",
      "\n"
     ]
    }
   ],
   "source": [
    "print(classification_report(y_test, y_pred))"
   ]
  },
  {
   "cell_type": "code",
   "execution_count": 8,
   "metadata": {},
   "outputs": [
    {
     "name": "stdout",
     "output_type": "stream",
     "text": [
      "Advanced Digital Marketing & Foundation 12.46%\n",
      "Marketing Research For Business Using SPSS 8.78%\n",
      "Optimizing in Growing Your Business 37.03%\n",
      "Powerful Closing Technique 8.21%\n",
      "Presentation & Selling Skills Using Story-Telling 8.43%\n",
      "Professional Selling Skills 8.32%\n",
      "Sales Forecasting: for Sales Target Results 8.30%\n",
      "Social Selling: Optimizing Engagement 8.46%\n"
     ]
    }
   ],
   "source": [
    "a = model.predict_proba(X_test.iloc[:1, :])\n",
    "b = [\"Advanced Digital Marketing & Foundation\", \"Marketing Research For Business Using SPSS\",\n",
    "     \"Optimizing in Growing Your Business\", \"Powerful Closing Technique\", \"Presentation & Selling Skills Using Story-Telling\",\n",
    "     \"Professional Selling Skills\", \"Sales Forecasting: for Sales Target Results\", \"Social Selling: Optimizing Engagement\"]\n",
    "for i, j in zip(b, a.ravel()):\n",
    "    print(i, f\"{j*100:.2f}%\")"
   ]
  },
  {
   "cell_type": "code",
   "execution_count": 9,
   "metadata": {},
   "outputs": [
    {
     "data": {
      "text/plain": [
       "array(['Optimizing in Growing Your Business'], dtype=object)"
      ]
     },
     "execution_count": 9,
     "metadata": {},
     "output_type": "execute_result"
    }
   ],
   "source": [
    "model.predict(X_test.iloc[:1, :])"
   ]
  },
  {
   "cell_type": "code",
   "execution_count": 10,
   "metadata": {},
   "outputs": [
    {
     "data": {
      "text/plain": [
       "'Advanced Digital Marketing & Foundation'"
      ]
     },
     "execution_count": 10,
     "metadata": {},
     "output_type": "execute_result"
    }
   ],
   "source": [
    "y_test.iloc[0]"
   ]
  },
  {
   "cell_type": "code",
   "execution_count": 11,
   "metadata": {},
   "outputs": [
    {
     "data": {
      "text/html": [
       "<div>\n",
       "<style scoped>\n",
       "    .dataframe tbody tr th:only-of-type {\n",
       "        vertical-align: middle;\n",
       "    }\n",
       "\n",
       "    .dataframe tbody tr th {\n",
       "        vertical-align: top;\n",
       "    }\n",
       "\n",
       "    .dataframe thead th {\n",
       "        text-align: right;\n",
       "    }\n",
       "</style>\n",
       "<table border=\"1\" class=\"dataframe\">\n",
       "  <thead>\n",
       "    <tr style=\"text-align: right;\">\n",
       "      <th></th>\n",
       "      <th>Unnamed: 0</th>\n",
       "      <th>company_ID</th>\n",
       "      <th>company_name</th>\n",
       "      <th>company_pic</th>\n",
       "      <th>company_address</th>\n",
       "      <th>company_phone</th>\n",
       "      <th>company_email</th>\n",
       "      <th>company_field</th>\n",
       "      <th>transaction_date</th>\n",
       "      <th>level_training_process</th>\n",
       "      <th>...</th>\n",
       "      <th>interest_in_discount_program</th>\n",
       "      <th>training_ID</th>\n",
       "      <th>trainer_name</th>\n",
       "      <th>training_price</th>\n",
       "      <th>discount_training</th>\n",
       "      <th>satisfaction_level</th>\n",
       "      <th>training_session</th>\n",
       "      <th>number_of_participant</th>\n",
       "      <th>training_field</th>\n",
       "      <th>training_name</th>\n",
       "    </tr>\n",
       "  </thead>\n",
       "  <tbody>\n",
       "    <tr>\n",
       "      <th>1501</th>\n",
       "      <td>1501</td>\n",
       "      <td>P1502</td>\n",
       "      <td>UD Napitupulu (Persero) Tbk</td>\n",
       "      <td>Kadir Sitompul</td>\n",
       "      <td>Gg. Otto Iskandardinata No. 14\\nSalatiga, DKI ...</td>\n",
       "      <td>+62 (0993) 413-3583</td>\n",
       "      <td>purwantitugiman@example.org</td>\n",
       "      <td>Aktivitas Kesehatan Manusia Dan Aktivitas Sosial</td>\n",
       "      <td>2024-02-10</td>\n",
       "      <td>4</td>\n",
       "      <td>...</td>\n",
       "      <td>4</td>\n",
       "      <td>B1502</td>\n",
       "      <td>Ibun</td>\n",
       "      <td>5600000.0</td>\n",
       "      <td>30</td>\n",
       "      <td>4</td>\n",
       "      <td>14</td>\n",
       "      <td>15</td>\n",
       "      <td>Sales &amp; Marketing Series</td>\n",
       "      <td>Advanced Digital Marketing &amp; Foundation</td>\n",
       "    </tr>\n",
       "  </tbody>\n",
       "</table>\n",
       "<p>1 rows × 33 columns</p>\n",
       "</div>"
      ],
      "text/plain": [
       "      Unnamed: 0 company_ID                 company_name     company_pic  \\\n",
       "1501        1501      P1502  UD Napitupulu (Persero) Tbk  Kadir Sitompul   \n",
       "\n",
       "                                        company_address        company_phone  \\\n",
       "1501  Gg. Otto Iskandardinata No. 14\\nSalatiga, DKI ...  +62 (0993) 413-3583   \n",
       "\n",
       "                    company_email  \\\n",
       "1501  purwantitugiman@example.org   \n",
       "\n",
       "                                         company_field transaction_date  \\\n",
       "1501  Aktivitas Kesehatan Manusia Dan Aktivitas Sosial       2024-02-10   \n",
       "\n",
       "      level_training_process  ... interest_in_discount_program  training_ID  \\\n",
       "1501                       4  ...                            4        B1502   \n",
       "\n",
       "     trainer_name  training_price  discount_training satisfaction_level  \\\n",
       "1501         Ibun       5600000.0                 30                  4   \n",
       "\n",
       "     training_session number_of_participant            training_field  \\\n",
       "1501               14                    15  Sales & Marketing Series   \n",
       "\n",
       "                                training_name  \n",
       "1501  Advanced Digital Marketing & Foundation  \n",
       "\n",
       "[1 rows x 33 columns]"
      ]
     },
     "execution_count": 11,
     "metadata": {},
     "output_type": "execute_result"
    }
   ],
   "source": [
    "X_test.iloc[:1]"
   ]
  },
  {
   "cell_type": "code",
   "execution_count": 15,
   "metadata": {},
   "outputs": [
    {
     "data": {
      "text/html": [
       "<div>\n",
       "<style scoped>\n",
       "    .dataframe tbody tr th:only-of-type {\n",
       "        vertical-align: middle;\n",
       "    }\n",
       "\n",
       "    .dataframe tbody tr th {\n",
       "        vertical-align: top;\n",
       "    }\n",
       "\n",
       "    .dataframe thead th {\n",
       "        text-align: right;\n",
       "    }\n",
       "</style>\n",
       "<table border=\"1\" class=\"dataframe\">\n",
       "  <thead>\n",
       "    <tr style=\"text-align: right;\">\n",
       "      <th></th>\n",
       "      <th>Unnamed: 0</th>\n",
       "      <th>company_ID</th>\n",
       "      <th>company_name</th>\n",
       "      <th>company_pic</th>\n",
       "      <th>company_address</th>\n",
       "      <th>company_phone</th>\n",
       "      <th>company_email</th>\n",
       "      <th>company_field</th>\n",
       "      <th>transaction_date</th>\n",
       "      <th>level_training_process</th>\n",
       "      <th>...</th>\n",
       "      <th>training_ID</th>\n",
       "      <th>trainer_name</th>\n",
       "      <th>training_price</th>\n",
       "      <th>discount_training</th>\n",
       "      <th>satisfaction_level</th>\n",
       "      <th>training_session</th>\n",
       "      <th>number_of_participant</th>\n",
       "      <th>training_field</th>\n",
       "      <th>training_name</th>\n",
       "      <th>upselling</th>\n",
       "    </tr>\n",
       "  </thead>\n",
       "  <tbody>\n",
       "    <tr>\n",
       "      <th>0</th>\n",
       "      <td>0</td>\n",
       "      <td>P0001</td>\n",
       "      <td>Tribakti Inspektama</td>\n",
       "      <td>Lasmanto Pratiwi</td>\n",
       "      <td>Jalan Cihampelas No. 282 Pontianak, Kalimantan...</td>\n",
       "      <td>+62 (183) 655 1415</td>\n",
       "      <td>muhammadnasyidah@example.org</td>\n",
       "      <td>Aktivitas Keuangan dan Asuransi</td>\n",
       "      <td>2020-01-01</td>\n",
       "      <td>5</td>\n",
       "      <td>...</td>\n",
       "      <td>B0001</td>\n",
       "      <td>Ibun</td>\n",
       "      <td>6000000.0</td>\n",
       "      <td>50</td>\n",
       "      <td>5</td>\n",
       "      <td>17</td>\n",
       "      <td>18</td>\n",
       "      <td>Sales &amp; Marketing Series</td>\n",
       "      <td>Sales Forecasting: for Sales Target Results</td>\n",
       "      <td>Sales Forecasting: for Sales Target Results</td>\n",
       "    </tr>\n",
       "  </tbody>\n",
       "</table>\n",
       "<p>1 rows × 34 columns</p>\n",
       "</div>"
      ],
      "text/plain": [
       "   Unnamed: 0 company_ID         company_name       company_pic  \\\n",
       "0           0      P0001  Tribakti Inspektama  Lasmanto Pratiwi   \n",
       "\n",
       "                                     company_address       company_phone  \\\n",
       "0  Jalan Cihampelas No. 282 Pontianak, Kalimantan...  +62 (183) 655 1415   \n",
       "\n",
       "                  company_email                    company_field  \\\n",
       "0  muhammadnasyidah@example.org  Aktivitas Keuangan dan Asuransi   \n",
       "\n",
       "  transaction_date  level_training_process  ... training_ID  trainer_name  \\\n",
       "0       2020-01-01                       5  ...       B0001          Ibun   \n",
       "\n",
       "  training_price  discount_training  satisfaction_level training_session  \\\n",
       "0      6000000.0                 50                   5               17   \n",
       "\n",
       "  number_of_participant            training_field  \\\n",
       "0                    18  Sales & Marketing Series   \n",
       "\n",
       "                                 training_name  \\\n",
       "0  Sales Forecasting: for Sales Target Results   \n",
       "\n",
       "                                     upselling  \n",
       "0  Sales Forecasting: for Sales Target Results  \n",
       "\n",
       "[1 rows x 34 columns]"
      ]
     },
     "execution_count": 15,
     "metadata": {},
     "output_type": "execute_result"
    }
   ],
   "source": [
    "import json\n",
    "a = {\n",
    "\"Unnamed: 0\": 0,\n",
    "\"company_ID\": \"P0001\",\n",
    "\"company_name\": \"Tribakti Inspektama\",\n",
    "\"company_pic\": \"Lasmanto Pratiwi\",\n",
    "\"company_address\": \"Jalan Cihampelas No. 282 Pontianak, Kalimantan Tengah 30563\",\n",
    "\"company_phone\": \"+62 (183) 655 1415\",\n",
    "\"company_email\": \"muhammadnasyidah@example.org\",\n",
    "\"company_field\": \"Aktivitas Keuangan dan Asuransi\",\n",
    "\"transaction_date\": \"2020-01-01\",\n",
    "\"level_training_process\": 5,\n",
    "\"purchasing_time_patterns\": \"diskon\",\n",
    "\"number_of_participants\": 14,\n",
    "\"group\": \"Group\",\n",
    "\"total_payment\": 108000000.0,\n",
    "\"satisfaction\": 4,\n",
    "\"communication_channel\": \"social media\",\n",
    "\"complaints\": \"positif\",\n",
    "\"communication_quality\": \"bagus\",\n",
    "\"possibility_of_purchasing_the_same_training\": 86,\n",
    "\"frequency_engagement\": 10,\n",
    "\"brand_sustainability\": 2,\n",
    "\"rating_training\": 5,\n",
    "\"tren_mode_factor\": \"Ya\",\n",
    "\"interest_in_discount_program\": 5,\n",
    "\"training_ID\": \"B0001\",\n",
    "\"trainer_name\": \"Ibun\",\n",
    "\"training_price\": 6000000.0,\n",
    "\"discount_training\": 50,\n",
    "\"satisfaction_level\": 5,\n",
    "\"training_session\": 17,\n",
    "\"number_of_participant\": 18,\n",
    "\"training_field\": \"Sales & Marketing Series\",\n",
    "\"training_name\": \"Sales Forecasting: for Sales Target Results\",\n",
    "\"upselling\": \"Sales Forecasting: for Sales Target Results\"\n",
    "}\n",
    "\n",
    "a = pd.json_normalize(a)\n",
    "a"
   ]
  },
  {
   "cell_type": "code",
   "execution_count": 17,
   "metadata": {},
   "outputs": [
    {
     "data": {
      "text/plain": [
       "array([[0.07224037, 0.07260051, 0.0681197 , 0.11196718, 0.06968347,\n",
       "        0.06877049, 0.46665467, 0.06996361]])"
      ]
     },
     "execution_count": 17,
     "metadata": {},
     "output_type": "execute_result"
    }
   ],
   "source": [
    "model.predict_proba(a)"
   ]
  },
  {
   "cell_type": "code",
   "execution_count": 19,
   "metadata": {},
   "outputs": [
    {
     "data": {
      "text/plain": [
       "[['Advanced Digital Marketing & Foundation', 7.22],\n",
       " ['Marketing Research For Business Using SPSS', 7.26],\n",
       " ['Optimizing in Growing Your Business', 6.81],\n",
       " ['Powerful Closing Technique', 11.2],\n",
       " ['Presentation & Selling Skills Using Story-Telling', 6.97],\n",
       " ['Professional Selling Skills', 6.88],\n",
       " ['Sales Forecasting: for Sales Target Results', 46.67],\n",
       " ['Social Selling: Optimizing Engagement', 7.0]]"
      ]
     },
     "execution_count": 19,
     "metadata": {},
     "output_type": "execute_result"
    }
   ],
   "source": [
    "c = []\n",
    "d = model.predict_proba(a)\n",
    "for i, j in zip(b, d.ravel()):\n",
    "    c.append([i, float(f\"{j*100:.2f}\")])\n",
    "c"
   ]
  },
  {
   "cell_type": "code",
   "execution_count": 22,
   "metadata": {},
   "outputs": [
    {
     "data": {
      "text/plain": [
       "[['Sales Forecasting: for Sales Target Results', 46.67],\n",
       " ['Powerful Closing Technique', 11.2],\n",
       " ['Marketing Research For Business Using SPSS', 7.26],\n",
       " ['Advanced Digital Marketing & Foundation', 7.22],\n",
       " ['Social Selling: Optimizing Engagement', 7.0],\n",
       " ['Presentation & Selling Skills Using Story-Telling', 6.97],\n",
       " ['Professional Selling Skills', 6.88],\n",
       " ['Optimizing in Growing Your Business', 6.81]]"
      ]
     },
     "execution_count": 22,
     "metadata": {},
     "output_type": "execute_result"
    }
   ],
   "source": [
    "c.sort(key=lambda x: x[1], reverse=True)\n",
    "c"
   ]
  },
  {
   "cell_type": "code",
   "execution_count": 23,
   "metadata": {},
   "outputs": [
    {
     "data": {
      "text/plain": [
       "['Sales Forecasting: for Sales Target Results',\n",
       " 'Powerful Closing Technique',\n",
       " 'Marketing Research For Business Using SPSS',\n",
       " 'Advanced Digital Marketing & Foundation',\n",
       " 'Social Selling: Optimizing Engagement',\n",
       " 'Presentation & Selling Skills Using Story-Telling',\n",
       " 'Professional Selling Skills',\n",
       " 'Optimizing in Growing Your Business']"
      ]
     },
     "execution_count": 23,
     "metadata": {},
     "output_type": "execute_result"
    }
   ],
   "source": [
    "[i[0] for i in c]"
   ]
  },
  {
   "cell_type": "code",
   "execution_count": 25,
   "metadata": {},
   "outputs": [
    {
     "data": {
      "text/plain": [
       "['Sales Forecasting: for Sales Target Results: 46.67%',\n",
       " 'Powerful Closing Technique: 11.2%',\n",
       " 'Marketing Research For Business Using SPSS: 7.26%',\n",
       " 'Advanced Digital Marketing & Foundation: 7.22%',\n",
       " 'Social Selling: Optimizing Engagement: 7.0%',\n",
       " 'Presentation & Selling Skills Using Story-Telling: 6.97%',\n",
       " 'Professional Selling Skills: 6.88%',\n",
       " 'Optimizing in Growing Your Business: 6.81%']"
      ]
     },
     "execution_count": 25,
     "metadata": {},
     "output_type": "execute_result"
    }
   ],
   "source": [
    "[f\"{i[0]}: {i[1]}%\" for i in c]"
   ]
  },
  {
   "cell_type": "code",
   "execution_count": null,
   "metadata": {},
   "outputs": [],
   "source": []
  }
 ],
 "metadata": {
  "kernelspec": {
   "display_name": "Python 3",
   "language": "python",
   "name": "python3"
  },
  "language_info": {
   "codemirror_mode": {
    "name": "ipython",
    "version": 3
   },
   "file_extension": ".py",
   "mimetype": "text/x-python",
   "name": "python",
   "nbconvert_exporter": "python",
   "pygments_lexer": "ipython3",
   "version": "3.9.9"
  }
 },
 "nbformat": 4,
 "nbformat_minor": 2
}
