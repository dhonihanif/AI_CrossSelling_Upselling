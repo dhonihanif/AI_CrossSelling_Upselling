{
 "cells": [
  {
   "cell_type": "code",
   "execution_count": 1,
   "metadata": {},
   "outputs": [],
   "source": [
    "import numpy as np\n",
    "import pandas as pd\n",
    "import matplotlib.pyplot as plt\n",
    "import seaborn as sns\n",
    "from sklearn.preprocessing import MinMaxScaler, LabelEncoder\n",
    "from sklearn.model_selection import train_test_split, GridSearchCV\n",
    "from sklearn.ensemble import RandomForestClassifier\n",
    "from sklearn.metrics import accuracy_score, precision_score, recall_score, f1_score, confusion_matrix, classification_report"
   ]
  },
  {
   "cell_type": "code",
   "execution_count": 2,
   "metadata": {},
   "outputs": [
    {
     "data": {
      "text/html": [
       "<div>\n",
       "<style scoped>\n",
       "    .dataframe tbody tr th:only-of-type {\n",
       "        vertical-align: middle;\n",
       "    }\n",
       "\n",
       "    .dataframe tbody tr th {\n",
       "        vertical-align: top;\n",
       "    }\n",
       "\n",
       "    .dataframe thead th {\n",
       "        text-align: right;\n",
       "    }\n",
       "</style>\n",
       "<table border=\"1\" class=\"dataframe\">\n",
       "  <thead>\n",
       "    <tr style=\"text-align: right;\">\n",
       "      <th></th>\n",
       "      <th>Unnamed: 0</th>\n",
       "      <th>company_ID</th>\n",
       "      <th>company_name</th>\n",
       "      <th>company_pic</th>\n",
       "      <th>company_address</th>\n",
       "      <th>company_phone</th>\n",
       "      <th>company_email</th>\n",
       "      <th>company_field</th>\n",
       "      <th>transaction_date</th>\n",
       "      <th>level_training_process</th>\n",
       "      <th>...</th>\n",
       "      <th>interest_in_discount_program</th>\n",
       "      <th>training_ID</th>\n",
       "      <th>trainer_name</th>\n",
       "      <th>training_total_meetings</th>\n",
       "      <th>training_price</th>\n",
       "      <th>discount_training</th>\n",
       "      <th>training_type</th>\n",
       "      <th>training_name</th>\n",
       "      <th>cross_selling</th>\n",
       "      <th>upselling</th>\n",
       "    </tr>\n",
       "  </thead>\n",
       "  <tbody>\n",
       "    <tr>\n",
       "      <th>0</th>\n",
       "      <td>0</td>\n",
       "      <td>P0001</td>\n",
       "      <td>Tribakti Inspektama</td>\n",
       "      <td>Lasmanto Pratiwi</td>\n",
       "      <td>Jalan Cihampelas No. 282\\nPontianak, Kalimanta...</td>\n",
       "      <td>+62 (183) 655 1415</td>\n",
       "      <td>muhammadnasyidah@example.org</td>\n",
       "      <td>Aktivitas Keuangan dan Asuransi</td>\n",
       "      <td>2020-01-01</td>\n",
       "      <td>5</td>\n",
       "      <td>...</td>\n",
       "      <td>5</td>\n",
       "      <td>B0001</td>\n",
       "      <td>Ibun</td>\n",
       "      <td>17</td>\n",
       "      <td>4000000</td>\n",
       "      <td>50</td>\n",
       "      <td>Other Series</td>\n",
       "      <td>Customer Service Excellence For Basic and Fron...</td>\n",
       "      <td>Health and Safety Environment</td>\n",
       "      <td>Customer Service Excellence For Basic and Fron...</td>\n",
       "    </tr>\n",
       "    <tr>\n",
       "      <th>1</th>\n",
       "      <td>1</td>\n",
       "      <td>P0002</td>\n",
       "      <td>Bank Bukopin Syariah</td>\n",
       "      <td>Puti Gina Napitupulu</td>\n",
       "      <td>Jalan Tubagus Ismail No. 02\\nSukabumi, BB 74318</td>\n",
       "      <td>(097) 773 7113</td>\n",
       "      <td>januarkamaria@example.net</td>\n",
       "      <td>Aktivitas Badan Internasional Dan Badan Ekstra...</td>\n",
       "      <td>2020-01-02</td>\n",
       "      <td>5</td>\n",
       "      <td>...</td>\n",
       "      <td>5</td>\n",
       "      <td>B0002</td>\n",
       "      <td>Reza</td>\n",
       "      <td>17</td>\n",
       "      <td>11000000</td>\n",
       "      <td>50</td>\n",
       "      <td>Other Series</td>\n",
       "      <td>Customer Service Excellence For Basic and Fron...</td>\n",
       "      <td>Health and Safety Environment</td>\n",
       "      <td>Customer Service Excellence For Basic and Fron...</td>\n",
       "    </tr>\n",
       "    <tr>\n",
       "      <th>2</th>\n",
       "      <td>2</td>\n",
       "      <td>P0003</td>\n",
       "      <td>Bank Bukopin Syariah</td>\n",
       "      <td>Karna Purwanti, S.I.Kom</td>\n",
       "      <td>Gg. Pelajar Pejuang No. 660\\nJambi, Jambi 60449</td>\n",
       "      <td>+62 (0801) 007-5669</td>\n",
       "      <td>rprasetyo@example.net</td>\n",
       "      <td>Pengadaan Listrik, Gas, Uap/Air Panas Dan Udar...</td>\n",
       "      <td>2020-01-03</td>\n",
       "      <td>5</td>\n",
       "      <td>...</td>\n",
       "      <td>5</td>\n",
       "      <td>B0003</td>\n",
       "      <td>Ibun</td>\n",
       "      <td>14</td>\n",
       "      <td>7000000</td>\n",
       "      <td>60</td>\n",
       "      <td>Other Series</td>\n",
       "      <td>Customer Service Excellence For Basic and Fron...</td>\n",
       "      <td>Health and Safety Environment</td>\n",
       "      <td>Customer Service Excellence For Basic and Fron...</td>\n",
       "    </tr>\n",
       "    <tr>\n",
       "      <th>3</th>\n",
       "      <td>3</td>\n",
       "      <td>P0004</td>\n",
       "      <td>Kementrian Agama</td>\n",
       "      <td>Tania Yolanda</td>\n",
       "      <td>Jl. Cihampelas No. 8\\nTual, ST 59647</td>\n",
       "      <td>+62-0247-253-2150</td>\n",
       "      <td>iswahyudiraisa@example.net</td>\n",
       "      <td>Konstruksi</td>\n",
       "      <td>2020-01-04</td>\n",
       "      <td>5</td>\n",
       "      <td>...</td>\n",
       "      <td>5</td>\n",
       "      <td>B0004</td>\n",
       "      <td>Reza</td>\n",
       "      <td>17</td>\n",
       "      <td>11000000</td>\n",
       "      <td>50</td>\n",
       "      <td>Other Series</td>\n",
       "      <td>Customer Service Excellence For Basic and Fron...</td>\n",
       "      <td>Health and Safety Environment</td>\n",
       "      <td>Customer Service Excellence For Basic and Fron...</td>\n",
       "    </tr>\n",
       "    <tr>\n",
       "      <th>4</th>\n",
       "      <td>4</td>\n",
       "      <td>P0005</td>\n",
       "      <td>M3kom</td>\n",
       "      <td>Zaenab Anggriawan</td>\n",
       "      <td>Gang Moch. Ramdan No. 083\\nPayakumbuh, SS 13214</td>\n",
       "      <td>(025) 406 2520</td>\n",
       "      <td>mulyono67@example.com</td>\n",
       "      <td>Informasi Dan Komunikasi</td>\n",
       "      <td>2020-01-05</td>\n",
       "      <td>5</td>\n",
       "      <td>...</td>\n",
       "      <td>5</td>\n",
       "      <td>B0005</td>\n",
       "      <td>Haris</td>\n",
       "      <td>17</td>\n",
       "      <td>10000000</td>\n",
       "      <td>50</td>\n",
       "      <td>Other Series</td>\n",
       "      <td>Customer Service Excellence For Basic and Fron...</td>\n",
       "      <td>Health and Safety Environment</td>\n",
       "      <td>Customer Service Excellence For Basic and Fron...</td>\n",
       "    </tr>\n",
       "  </tbody>\n",
       "</table>\n",
       "<p>5 rows × 33 columns</p>\n",
       "</div>"
      ],
      "text/plain": [
       "   Unnamed: 0 company_ID          company_name              company_pic  \\\n",
       "0           0      P0001   Tribakti Inspektama         Lasmanto Pratiwi   \n",
       "1           1      P0002  Bank Bukopin Syariah     Puti Gina Napitupulu   \n",
       "2           2      P0003  Bank Bukopin Syariah  Karna Purwanti, S.I.Kom   \n",
       "3           3      P0004      Kementrian Agama            Tania Yolanda   \n",
       "4           4      P0005                 M3kom        Zaenab Anggriawan   \n",
       "\n",
       "                                     company_address        company_phone  \\\n",
       "0  Jalan Cihampelas No. 282\\nPontianak, Kalimanta...   +62 (183) 655 1415   \n",
       "1    Jalan Tubagus Ismail No. 02\\nSukabumi, BB 74318       (097) 773 7113   \n",
       "2    Gg. Pelajar Pejuang No. 660\\nJambi, Jambi 60449  +62 (0801) 007-5669   \n",
       "3               Jl. Cihampelas No. 8\\nTual, ST 59647    +62-0247-253-2150   \n",
       "4    Gang Moch. Ramdan No. 083\\nPayakumbuh, SS 13214       (025) 406 2520   \n",
       "\n",
       "                  company_email  \\\n",
       "0  muhammadnasyidah@example.org   \n",
       "1     januarkamaria@example.net   \n",
       "2         rprasetyo@example.net   \n",
       "3    iswahyudiraisa@example.net   \n",
       "4         mulyono67@example.com   \n",
       "\n",
       "                                       company_field transaction_date  \\\n",
       "0                    Aktivitas Keuangan dan Asuransi       2020-01-01   \n",
       "1  Aktivitas Badan Internasional Dan Badan Ekstra...       2020-01-02   \n",
       "2  Pengadaan Listrik, Gas, Uap/Air Panas Dan Udar...       2020-01-03   \n",
       "3                                         Konstruksi       2020-01-04   \n",
       "4                           Informasi Dan Komunikasi       2020-01-05   \n",
       "\n",
       "   level_training_process  ... interest_in_discount_program  training_ID  \\\n",
       "0                       5  ...                            5        B0001   \n",
       "1                       5  ...                            5        B0002   \n",
       "2                       5  ...                            5        B0003   \n",
       "3                       5  ...                            5        B0004   \n",
       "4                       5  ...                            5        B0005   \n",
       "\n",
       "  trainer_name  training_total_meetings  training_price discount_training  \\\n",
       "0         Ibun                       17         4000000                50   \n",
       "1         Reza                       17        11000000                50   \n",
       "2         Ibun                       14         7000000                60   \n",
       "3         Reza                       17        11000000                50   \n",
       "4        Haris                       17        10000000                50   \n",
       "\n",
       "  training_type                                      training_name  \\\n",
       "0  Other Series  Customer Service Excellence For Basic and Fron...   \n",
       "1  Other Series  Customer Service Excellence For Basic and Fron...   \n",
       "2  Other Series  Customer Service Excellence For Basic and Fron...   \n",
       "3  Other Series  Customer Service Excellence For Basic and Fron...   \n",
       "4  Other Series  Customer Service Excellence For Basic and Fron...   \n",
       "\n",
       "                   cross_selling  \\\n",
       "0  Health and Safety Environment   \n",
       "1  Health and Safety Environment   \n",
       "2  Health and Safety Environment   \n",
       "3  Health and Safety Environment   \n",
       "4  Health and Safety Environment   \n",
       "\n",
       "                                           upselling  \n",
       "0  Customer Service Excellence For Basic and Fron...  \n",
       "1  Customer Service Excellence For Basic and Fron...  \n",
       "2  Customer Service Excellence For Basic and Fron...  \n",
       "3  Customer Service Excellence For Basic and Fron...  \n",
       "4  Customer Service Excellence For Basic and Fron...  \n",
       "\n",
       "[5 rows x 33 columns]"
      ]
     },
     "execution_count": 2,
     "metadata": {},
     "output_type": "execute_result"
    }
   ],
   "source": [
    "df = pd.read_csv(r\"C:\\Users\\DHONI HANIF\\OneDrive\\Documents\\AI Sales Cross Selling and UpSelling\\data\\dataset\\Other Series.csv\")\n",
    "df.head()"
   ]
  },
  {
   "cell_type": "code",
   "execution_count": 3,
   "metadata": {},
   "outputs": [
    {
     "name": "stdout",
     "output_type": "stream",
     "text": [
      "<class 'pandas.core.frame.DataFrame'>\n",
      "RangeIndex: 5000 entries, 0 to 4999\n",
      "Data columns (total 11 columns):\n",
      " #   Column                                       Non-Null Count  Dtype \n",
      "---  ------                                       --------------  ----- \n",
      " 0   level_training_process                       5000 non-null   int64 \n",
      " 1   satisfaction                                 5000 non-null   int64 \n",
      " 2   possibility_of_purchasing_the_same_training  5000 non-null   int64 \n",
      " 3   frequency_engagement                         5000 non-null   int64 \n",
      " 4   group                                        5000 non-null   object\n",
      " 5   communication_channel                        5000 non-null   object\n",
      " 6   complaints                                   5000 non-null   object\n",
      " 7   communication_quality                        5000 non-null   object\n",
      " 8   tren_mode_factor                             5000 non-null   object\n",
      " 9   training_name                                5000 non-null   object\n",
      " 10  cross_selling                                5000 non-null   object\n",
      "dtypes: int64(4), object(7)\n",
      "memory usage: 429.8+ KB\n"
     ]
    }
   ],
   "source": [
    "df = df[[\"level_training_process\", \"satisfaction\", \"possibility_of_purchasing_the_same_training\",\n",
    "         \"frequency_engagement\", \"group\", \"communication_channel\", \"complaints\", \"communication_quality\",\n",
    "         \"tren_mode_factor\", \"training_name\", \"cross_selling\"]]\n",
    "\n",
    "df.info()"
   ]
  },
  {
   "cell_type": "code",
   "execution_count": 4,
   "metadata": {},
   "outputs": [
    {
     "data": {
      "text/html": [
       "<div>\n",
       "<style scoped>\n",
       "    .dataframe tbody tr th:only-of-type {\n",
       "        vertical-align: middle;\n",
       "    }\n",
       "\n",
       "    .dataframe tbody tr th {\n",
       "        vertical-align: top;\n",
       "    }\n",
       "\n",
       "    .dataframe thead th {\n",
       "        text-align: right;\n",
       "    }\n",
       "</style>\n",
       "<table border=\"1\" class=\"dataframe\">\n",
       "  <thead>\n",
       "    <tr style=\"text-align: right;\">\n",
       "      <th></th>\n",
       "      <th>level_training_process</th>\n",
       "      <th>satisfaction</th>\n",
       "      <th>possibility_of_purchasing_the_same_training</th>\n",
       "      <th>frequency_engagement</th>\n",
       "      <th>group</th>\n",
       "      <th>communication_channel</th>\n",
       "      <th>complaints</th>\n",
       "      <th>communication_quality</th>\n",
       "      <th>tren_mode_factor</th>\n",
       "      <th>training_name</th>\n",
       "      <th>cross_selling</th>\n",
       "    </tr>\n",
       "  </thead>\n",
       "  <tbody>\n",
       "    <tr>\n",
       "      <th>0</th>\n",
       "      <td>1.0</td>\n",
       "      <td>1.0</td>\n",
       "      <td>0.943820</td>\n",
       "      <td>1.0</td>\n",
       "      <td>0</td>\n",
       "      <td>2</td>\n",
       "      <td>2</td>\n",
       "      <td>0</td>\n",
       "      <td>1</td>\n",
       "      <td>0</td>\n",
       "      <td>2</td>\n",
       "    </tr>\n",
       "    <tr>\n",
       "      <th>1</th>\n",
       "      <td>1.0</td>\n",
       "      <td>1.0</td>\n",
       "      <td>0.932584</td>\n",
       "      <td>1.0</td>\n",
       "      <td>0</td>\n",
       "      <td>2</td>\n",
       "      <td>2</td>\n",
       "      <td>0</td>\n",
       "      <td>1</td>\n",
       "      <td>0</td>\n",
       "      <td>2</td>\n",
       "    </tr>\n",
       "    <tr>\n",
       "      <th>2</th>\n",
       "      <td>1.0</td>\n",
       "      <td>1.0</td>\n",
       "      <td>0.943820</td>\n",
       "      <td>1.0</td>\n",
       "      <td>0</td>\n",
       "      <td>2</td>\n",
       "      <td>2</td>\n",
       "      <td>0</td>\n",
       "      <td>1</td>\n",
       "      <td>0</td>\n",
       "      <td>2</td>\n",
       "    </tr>\n",
       "    <tr>\n",
       "      <th>3</th>\n",
       "      <td>1.0</td>\n",
       "      <td>1.0</td>\n",
       "      <td>0.955056</td>\n",
       "      <td>1.0</td>\n",
       "      <td>0</td>\n",
       "      <td>2</td>\n",
       "      <td>2</td>\n",
       "      <td>0</td>\n",
       "      <td>1</td>\n",
       "      <td>0</td>\n",
       "      <td>2</td>\n",
       "    </tr>\n",
       "    <tr>\n",
       "      <th>4</th>\n",
       "      <td>1.0</td>\n",
       "      <td>1.0</td>\n",
       "      <td>0.988764</td>\n",
       "      <td>1.0</td>\n",
       "      <td>0</td>\n",
       "      <td>2</td>\n",
       "      <td>2</td>\n",
       "      <td>0</td>\n",
       "      <td>1</td>\n",
       "      <td>0</td>\n",
       "      <td>2</td>\n",
       "    </tr>\n",
       "  </tbody>\n",
       "</table>\n",
       "</div>"
      ],
      "text/plain": [
       "   level_training_process  satisfaction  \\\n",
       "0                     1.0           1.0   \n",
       "1                     1.0           1.0   \n",
       "2                     1.0           1.0   \n",
       "3                     1.0           1.0   \n",
       "4                     1.0           1.0   \n",
       "\n",
       "   possibility_of_purchasing_the_same_training  frequency_engagement  group  \\\n",
       "0                                     0.943820                   1.0      0   \n",
       "1                                     0.932584                   1.0      0   \n",
       "2                                     0.943820                   1.0      0   \n",
       "3                                     0.955056                   1.0      0   \n",
       "4                                     0.988764                   1.0      0   \n",
       "\n",
       "   communication_channel  complaints  communication_quality  tren_mode_factor  \\\n",
       "0                      2           2                      0                 1   \n",
       "1                      2           2                      0                 1   \n",
       "2                      2           2                      0                 1   \n",
       "3                      2           2                      0                 1   \n",
       "4                      2           2                      0                 1   \n",
       "\n",
       "   training_name  cross_selling  \n",
       "0              0              2  \n",
       "1              0              2  \n",
       "2              0              2  \n",
       "3              0              2  \n",
       "4              0              2  "
      ]
     },
     "execution_count": 4,
     "metadata": {},
     "output_type": "execute_result"
    }
   ],
   "source": [
    "columns = {}\n",
    "for i in df.columns:\n",
    "    if df[i].dtype == \"category\" or df[i].dtype == \"object\" :\n",
    "        columns[i] = LabelEncoder().fit(df[i])\n",
    "        df[i] = columns[i].transform(df[i])\n",
    "             \n",
    "scaler = MinMaxScaler().fit(df[[i for i in df.columns if i not in columns]])\n",
    "df2 = pd.DataFrame(scaler.transform(df[[i for i in df.columns if i not in columns]]), columns=df[[i for i in df.columns if i not in columns]].columns)\n",
    "for i in columns:\n",
    "    df2[i] = df[i]\n",
    "df2.head(5)"
   ]
  },
  {
   "cell_type": "code",
   "execution_count": 5,
   "metadata": {},
   "outputs": [
    {
     "data": {
      "text/plain": [
       "((4000, 10), (1000, 10), (4000,), (1000,))"
      ]
     },
     "execution_count": 5,
     "metadata": {},
     "output_type": "execute_result"
    }
   ],
   "source": [
    "X = df2.drop(\"cross_selling\", axis=1)\n",
    "y = df2[\"cross_selling\"]\n",
    "\n",
    "X_train, X_test, y_train, y_test = train_test_split(X, y, test_size=.2, random_state=42)\n",
    "X_train.shape, X_test.shape, y_train.shape, y_test.shape"
   ]
  },
  {
   "cell_type": "code",
   "execution_count": 6,
   "metadata": {},
   "outputs": [
    {
     "data": {
      "text/html": [
       "<style>#sk-container-id-1 {color: black;}#sk-container-id-1 pre{padding: 0;}#sk-container-id-1 div.sk-toggleable {background-color: white;}#sk-container-id-1 label.sk-toggleable__label {cursor: pointer;display: block;width: 100%;margin-bottom: 0;padding: 0.3em;box-sizing: border-box;text-align: center;}#sk-container-id-1 label.sk-toggleable__label-arrow:before {content: \"▸\";float: left;margin-right: 0.25em;color: #696969;}#sk-container-id-1 label.sk-toggleable__label-arrow:hover:before {color: black;}#sk-container-id-1 div.sk-estimator:hover label.sk-toggleable__label-arrow:before {color: black;}#sk-container-id-1 div.sk-toggleable__content {max-height: 0;max-width: 0;overflow: hidden;text-align: left;background-color: #f0f8ff;}#sk-container-id-1 div.sk-toggleable__content pre {margin: 0.2em;color: black;border-radius: 0.25em;background-color: #f0f8ff;}#sk-container-id-1 input.sk-toggleable__control:checked~div.sk-toggleable__content {max-height: 200px;max-width: 100%;overflow: auto;}#sk-container-id-1 input.sk-toggleable__control:checked~label.sk-toggleable__label-arrow:before {content: \"▾\";}#sk-container-id-1 div.sk-estimator input.sk-toggleable__control:checked~label.sk-toggleable__label {background-color: #d4ebff;}#sk-container-id-1 div.sk-label input.sk-toggleable__control:checked~label.sk-toggleable__label {background-color: #d4ebff;}#sk-container-id-1 input.sk-hidden--visually {border: 0;clip: rect(1px 1px 1px 1px);clip: rect(1px, 1px, 1px, 1px);height: 1px;margin: -1px;overflow: hidden;padding: 0;position: absolute;width: 1px;}#sk-container-id-1 div.sk-estimator {font-family: monospace;background-color: #f0f8ff;border: 1px dotted black;border-radius: 0.25em;box-sizing: border-box;margin-bottom: 0.5em;}#sk-container-id-1 div.sk-estimator:hover {background-color: #d4ebff;}#sk-container-id-1 div.sk-parallel-item::after {content: \"\";width: 100%;border-bottom: 1px solid gray;flex-grow: 1;}#sk-container-id-1 div.sk-label:hover label.sk-toggleable__label {background-color: #d4ebff;}#sk-container-id-1 div.sk-serial::before {content: \"\";position: absolute;border-left: 1px solid gray;box-sizing: border-box;top: 0;bottom: 0;left: 50%;z-index: 0;}#sk-container-id-1 div.sk-serial {display: flex;flex-direction: column;align-items: center;background-color: white;padding-right: 0.2em;padding-left: 0.2em;position: relative;}#sk-container-id-1 div.sk-item {position: relative;z-index: 1;}#sk-container-id-1 div.sk-parallel {display: flex;align-items: stretch;justify-content: center;background-color: white;position: relative;}#sk-container-id-1 div.sk-item::before, #sk-container-id-1 div.sk-parallel-item::before {content: \"\";position: absolute;border-left: 1px solid gray;box-sizing: border-box;top: 0;bottom: 0;left: 50%;z-index: -1;}#sk-container-id-1 div.sk-parallel-item {display: flex;flex-direction: column;z-index: 1;position: relative;background-color: white;}#sk-container-id-1 div.sk-parallel-item:first-child::after {align-self: flex-end;width: 50%;}#sk-container-id-1 div.sk-parallel-item:last-child::after {align-self: flex-start;width: 50%;}#sk-container-id-1 div.sk-parallel-item:only-child::after {width: 0;}#sk-container-id-1 div.sk-dashed-wrapped {border: 1px dashed gray;margin: 0 0.4em 0.5em 0.4em;box-sizing: border-box;padding-bottom: 0.4em;background-color: white;}#sk-container-id-1 div.sk-label label {font-family: monospace;font-weight: bold;display: inline-block;line-height: 1.2em;}#sk-container-id-1 div.sk-label-container {text-align: center;}#sk-container-id-1 div.sk-container {/* jupyter's `normalize.less` sets `[hidden] { display: none; }` but bootstrap.min.css set `[hidden] { display: none !important; }` so we also need the `!important` here to be able to override the default hidden behavior on the sphinx rendered scikit-learn.org. See: https://github.com/scikit-learn/scikit-learn/issues/21755 */display: inline-block !important;position: relative;}#sk-container-id-1 div.sk-text-repr-fallback {display: none;}</style><div id=\"sk-container-id-1\" class=\"sk-top-container\"><div class=\"sk-text-repr-fallback\"><pre>RandomForestClassifier(class_weight=&#x27;balanced&#x27;, random_state=42)</pre><b>In a Jupyter environment, please rerun this cell to show the HTML representation or trust the notebook. <br />On GitHub, the HTML representation is unable to render, please try loading this page with nbviewer.org.</b></div><div class=\"sk-container\" hidden><div class=\"sk-item\"><div class=\"sk-estimator sk-toggleable\"><input class=\"sk-toggleable__control sk-hidden--visually\" id=\"sk-estimator-id-1\" type=\"checkbox\" checked><label for=\"sk-estimator-id-1\" class=\"sk-toggleable__label sk-toggleable__label-arrow\">RandomForestClassifier</label><div class=\"sk-toggleable__content\"><pre>RandomForestClassifier(class_weight=&#x27;balanced&#x27;, random_state=42)</pre></div></div></div></div></div>"
      ],
      "text/plain": [
       "RandomForestClassifier(class_weight='balanced', random_state=42)"
      ]
     },
     "execution_count": 6,
     "metadata": {},
     "output_type": "execute_result"
    }
   ],
   "source": [
    "model = RandomForestClassifier(random_state=42, class_weight=\"balanced\")\n",
    "model.fit(X_train, y_train)"
   ]
  },
  {
   "cell_type": "code",
   "execution_count": 7,
   "metadata": {},
   "outputs": [
    {
     "name": "stdout",
     "output_type": "stream",
     "text": [
      "\n",
      "      Accuracy : 0.866\n",
      "      Precision Score : 0.866\n",
      "      Recall Score : 0.866\n",
      "      F1 Score : 0.866\n",
      "      \n"
     ]
    }
   ],
   "source": [
    "y_pred = model.predict(X_test)\n",
    "accuracy = accuracy_score(y_test, y_pred)\n",
    "precision = precision_score(y_test, y_pred, average=\"micro\")\n",
    "recall = recall_score(y_test, y_pred, average=\"micro\")\n",
    "f1 = f1_score(y_test, y_pred, average=\"micro\")\n",
    "\n",
    "print(f\"\"\"\n",
    "      Accuracy : {accuracy:.3f}\n",
    "      Precision Score : {precision:.3f}\n",
    "      Recall Score : {recall:.3f}\n",
    "      F1 Score : {f1:.3f}\n",
    "      \"\"\")"
   ]
  },
  {
   "cell_type": "code",
   "execution_count": 8,
   "metadata": {},
   "outputs": [
    {
     "name": "stdout",
     "output_type": "stream",
     "text": [
      "              precision    recall  f1-score   support\n",
      "\n",
      "           0       0.94      0.86      0.90       145\n",
      "           1       0.85      0.90      0.88       122\n",
      "           2       0.86      0.85      0.86       126\n",
      "           3       0.89      0.84      0.86       116\n",
      "           4       0.87      0.87      0.87       134\n",
      "           5       0.83      0.88      0.86       129\n",
      "           6       0.87      0.83      0.85       126\n",
      "           7       0.82      0.92      0.87       102\n",
      "\n",
      "    accuracy                           0.87      1000\n",
      "   macro avg       0.87      0.87      0.87      1000\n",
      "weighted avg       0.87      0.87      0.87      1000\n",
      "\n"
     ]
    }
   ],
   "source": [
    "print(classification_report(y_test, y_pred))"
   ]
  },
  {
   "cell_type": "code",
   "execution_count": 9,
   "metadata": {},
   "outputs": [
    {
     "data": {
      "image/png": "[encoded data removed]",
      "text/plain": [
       "<Figure size 1200x800 with 2 Axes>"
      ]
     },
     "metadata": {},
     "output_type": "display_data"
    }
   ],
   "source": [
    "# Hitung confusion matrix\n",
    "confuse = confusion_matrix(y_test, y_pred)\n",
    "\n",
    "# Buat heatmap dengan angka integer\n",
    "fig, ax = plt.subplots(figsize=(12, 8))\n",
    "sns.heatmap(confuse, annot=True, fmt='d', linecolor=\"white\", linewidths=.2, cmap=\"winter\", ax=ax)\n",
    "ax.set_title(\"Confusion Matrix\")\n",
    "plt.tight_layout()\n",
    "plt.show()"
   ]
  },
  {
   "cell_type": "code",
   "execution_count": 10,
   "metadata": {},
   "outputs": [
    {
     "name": "stdout",
     "output_type": "stream",
     "text": [
      "1 0.0\n",
      "2 2.9691883481210426\n",
      "3 0.0\n",
      "4 97.03081165187899\n",
      "5 0.0\n",
      "6 0.0\n",
      "7 0.0\n",
      "8 0.0\n"
     ]
    }
   ],
   "source": [
    "a = model.predict_proba(X_test.iloc[-1:, :])\n",
    "for i, j in enumerate(a.ravel()):\n",
    "    print(i+1, j*100)"
   ]
  },
  {
   "cell_type": "code",
   "execution_count": 11,
   "metadata": {},
   "outputs": [
    {
     "data": {
      "text/html": [
       "<style>#sk-container-id-2 {color: black;}#sk-container-id-2 pre{padding: 0;}#sk-container-id-2 div.sk-toggleable {background-color: white;}#sk-container-id-2 label.sk-toggleable__label {cursor: pointer;display: block;width: 100%;margin-bottom: 0;padding: 0.3em;box-sizing: border-box;text-align: center;}#sk-container-id-2 label.sk-toggleable__label-arrow:before {content: \"▸\";float: left;margin-right: 0.25em;color: #696969;}#sk-container-id-2 label.sk-toggleable__label-arrow:hover:before {color: black;}#sk-container-id-2 div.sk-estimator:hover label.sk-toggleable__label-arrow:before {color: black;}#sk-container-id-2 div.sk-toggleable__content {max-height: 0;max-width: 0;overflow: hidden;text-align: left;background-color: #f0f8ff;}#sk-container-id-2 div.sk-toggleable__content pre {margin: 0.2em;color: black;border-radius: 0.25em;background-color: #f0f8ff;}#sk-container-id-2 input.sk-toggleable__control:checked~div.sk-toggleable__content {max-height: 200px;max-width: 100%;overflow: auto;}#sk-container-id-2 input.sk-toggleable__control:checked~label.sk-toggleable__label-arrow:before {content: \"▾\";}#sk-container-id-2 div.sk-estimator input.sk-toggleable__control:checked~label.sk-toggleable__label {background-color: #d4ebff;}#sk-container-id-2 div.sk-label input.sk-toggleable__control:checked~label.sk-toggleable__label {background-color: #d4ebff;}#sk-container-id-2 input.sk-hidden--visually {border: 0;clip: rect(1px 1px 1px 1px);clip: rect(1px, 1px, 1px, 1px);height: 1px;margin: -1px;overflow: hidden;padding: 0;position: absolute;width: 1px;}#sk-container-id-2 div.sk-estimator {font-family: monospace;background-color: #f0f8ff;border: 1px dotted black;border-radius: 0.25em;box-sizing: border-box;margin-bottom: 0.5em;}#sk-container-id-2 div.sk-estimator:hover {background-color: #d4ebff;}#sk-container-id-2 div.sk-parallel-item::after {content: \"\";width: 100%;border-bottom: 1px solid gray;flex-grow: 1;}#sk-container-id-2 div.sk-label:hover label.sk-toggleable__label {background-color: #d4ebff;}#sk-container-id-2 div.sk-serial::before {content: \"\";position: absolute;border-left: 1px solid gray;box-sizing: border-box;top: 0;bottom: 0;left: 50%;z-index: 0;}#sk-container-id-2 div.sk-serial {display: flex;flex-direction: column;align-items: center;background-color: white;padding-right: 0.2em;padding-left: 0.2em;position: relative;}#sk-container-id-2 div.sk-item {position: relative;z-index: 1;}#sk-container-id-2 div.sk-parallel {display: flex;align-items: stretch;justify-content: center;background-color: white;position: relative;}#sk-container-id-2 div.sk-item::before, #sk-container-id-2 div.sk-parallel-item::before {content: \"\";position: absolute;border-left: 1px solid gray;box-sizing: border-box;top: 0;bottom: 0;left: 50%;z-index: -1;}#sk-container-id-2 div.sk-parallel-item {display: flex;flex-direction: column;z-index: 1;position: relative;background-color: white;}#sk-container-id-2 div.sk-parallel-item:first-child::after {align-self: flex-end;width: 50%;}#sk-container-id-2 div.sk-parallel-item:last-child::after {align-self: flex-start;width: 50%;}#sk-container-id-2 div.sk-parallel-item:only-child::after {width: 0;}#sk-container-id-2 div.sk-dashed-wrapped {border: 1px dashed gray;margin: 0 0.4em 0.5em 0.4em;box-sizing: border-box;padding-bottom: 0.4em;background-color: white;}#sk-container-id-2 div.sk-label label {font-family: monospace;font-weight: bold;display: inline-block;line-height: 1.2em;}#sk-container-id-2 div.sk-label-container {text-align: center;}#sk-container-id-2 div.sk-container {/* jupyter's `normalize.less` sets `[hidden] { display: none; }` but bootstrap.min.css set `[hidden] { display: none !important; }` so we also need the `!important` here to be able to override the default hidden behavior on the sphinx rendered scikit-learn.org. See: https://github.com/scikit-learn/scikit-learn/issues/21755 */display: inline-block !important;position: relative;}#sk-container-id-2 div.sk-text-repr-fallback {display: none;}</style><div id=\"sk-container-id-2\" class=\"sk-top-container\"><div class=\"sk-text-repr-fallback\"><pre>GridSearchCV(cv=5, estimator=RandomForestClassifier(random_state=42),\n",
       "             param_grid={&#x27;class_weight&#x27;: [&#x27;balanced&#x27;],\n",
       "                         &#x27;max_depth&#x27;: [None, 10, 20],\n",
       "                         &#x27;min_samples_leaf&#x27;: array([ 1,  2,  3,  4,  5,  6,  7,  8,  9, 10]),\n",
       "                         &#x27;min_samples_split&#x27;: [2, 5, 10],\n",
       "                         &#x27;n_estimators&#x27;: [50, 100, 200]})</pre><b>In a Jupyter environment, please rerun this cell to show the HTML representation or trust the notebook. <br />On GitHub, the HTML representation is unable to render, please try loading this page with nbviewer.org.</b></div><div class=\"sk-container\" hidden><div class=\"sk-item sk-dashed-wrapped\"><div class=\"sk-label-container\"><div class=\"sk-label sk-toggleable\"><input class=\"sk-toggleable__control sk-hidden--visually\" id=\"sk-estimator-id-2\" type=\"checkbox\" ><label for=\"sk-estimator-id-2\" class=\"sk-toggleable__label sk-toggleable__label-arrow\">GridSearchCV</label><div class=\"sk-toggleable__content\"><pre>GridSearchCV(cv=5, estimator=RandomForestClassifier(random_state=42),\n",
       "             param_grid={&#x27;class_weight&#x27;: [&#x27;balanced&#x27;],\n",
       "                         &#x27;max_depth&#x27;: [None, 10, 20],\n",
       "                         &#x27;min_samples_leaf&#x27;: array([ 1,  2,  3,  4,  5,  6,  7,  8,  9, 10]),\n",
       "                         &#x27;min_samples_split&#x27;: [2, 5, 10],\n",
       "                         &#x27;n_estimators&#x27;: [50, 100, 200]})</pre></div></div></div><div class=\"sk-parallel\"><div class=\"sk-parallel-item\"><div class=\"sk-item\"><div class=\"sk-label-container\"><div class=\"sk-label sk-toggleable\"><input class=\"sk-toggleable__control sk-hidden--visually\" id=\"sk-estimator-id-3\" type=\"checkbox\" ><label for=\"sk-estimator-id-3\" class=\"sk-toggleable__label sk-toggleable__label-arrow\">estimator: RandomForestClassifier</label><div class=\"sk-toggleable__content\"><pre>RandomForestClassifier(random_state=42)</pre></div></div></div><div class=\"sk-serial\"><div class=\"sk-item\"><div class=\"sk-estimator sk-toggleable\"><input class=\"sk-toggleable__control sk-hidden--visually\" id=\"sk-estimator-id-4\" type=\"checkbox\" ><label for=\"sk-estimator-id-4\" class=\"sk-toggleable__label sk-toggleable__label-arrow\">RandomForestClassifier</label><div class=\"sk-toggleable__content\"><pre>RandomForestClassifier(random_state=42)</pre></div></div></div></div></div></div></div></div></div></div>"
      ],
      "text/plain": [
       "GridSearchCV(cv=5, estimator=RandomForestClassifier(random_state=42),\n",
       "             param_grid={'class_weight': ['balanced'],\n",
       "                         'max_depth': [None, 10, 20],\n",
       "                         'min_samples_leaf': array([ 1,  2,  3,  4,  5,  6,  7,  8,  9, 10]),\n",
       "                         'min_samples_split': [2, 5, 10],\n",
       "                         'n_estimators': [50, 100, 200]})"
      ]
     },
     "execution_count": 11,
     "metadata": {},
     "output_type": "execute_result"
    }
   ],
   "source": [
    "# Definisikan Random Forest Classifier\n",
    "random_forest_classifier = RandomForestClassifier(random_state=42)\n",
    "\n",
    "# Tentukan parameter yang akan diuji\n",
    "param_grid = {\n",
    "    'n_estimators': [50, 100, 200],\n",
    "    'max_depth': [None, 10, 20],\n",
    "    'min_samples_split': [2, 5, 10],\n",
    "    'class_weight': ['balanced'],\n",
    "    'min_samples_leaf': np.arange(1, 11)\n",
    "}\n",
    "\n",
    "# Buat objek GridSearchCV\n",
    "grid_search = GridSearchCV(random_forest_classifier, param_grid, cv=5)\n",
    "\n",
    "# Jalankan grid search pada dataset\n",
    "grid_search.fit(X, y)"
   ]
  },
  {
   "cell_type": "code",
   "execution_count": 12,
   "metadata": {},
   "outputs": [
    {
     "name": "stdout",
     "output_type": "stream",
     "text": [
      "Best Parameters: {'class_weight': 'balanced', 'max_depth': None, 'min_samples_leaf': 4, 'min_samples_split': 2, 'n_estimators': 100}\n",
      "Best Cross-Validation Score: 0.8987999999999999\n"
     ]
    }
   ],
   "source": [
    "# Tampilkan hasil grid search\n",
    "print(\"Best Parameters:\", grid_search.best_params_)\n",
    "print(\"Best Cross-Validation Score:\", grid_search.best_score_)"
   ]
  },
  {
   "cell_type": "code",
   "execution_count": 13,
   "metadata": {},
   "outputs": [
    {
     "data": {
      "text/html": [
       "<style>#sk-container-id-3 {color: black;}#sk-container-id-3 pre{padding: 0;}#sk-container-id-3 div.sk-toggleable {background-color: white;}#sk-container-id-3 label.sk-toggleable__label {cursor: pointer;display: block;width: 100%;margin-bottom: 0;padding: 0.3em;box-sizing: border-box;text-align: center;}#sk-container-id-3 label.sk-toggleable__label-arrow:before {content: \"▸\";float: left;margin-right: 0.25em;color: #696969;}#sk-container-id-3 label.sk-toggleable__label-arrow:hover:before {color: black;}#sk-container-id-3 div.sk-estimator:hover label.sk-toggleable__label-arrow:before {color: black;}#sk-container-id-3 div.sk-toggleable__content {max-height: 0;max-width: 0;overflow: hidden;text-align: left;background-color: #f0f8ff;}#sk-container-id-3 div.sk-toggleable__content pre {margin: 0.2em;color: black;border-radius: 0.25em;background-color: #f0f8ff;}#sk-container-id-3 input.sk-toggleable__control:checked~div.sk-toggleable__content {max-height: 200px;max-width: 100%;overflow: auto;}#sk-container-id-3 input.sk-toggleable__control:checked~label.sk-toggleable__label-arrow:before {content: \"▾\";}#sk-container-id-3 div.sk-estimator input.sk-toggleable__control:checked~label.sk-toggleable__label {background-color: #d4ebff;}#sk-container-id-3 div.sk-label input.sk-toggleable__control:checked~label.sk-toggleable__label {background-color: #d4ebff;}#sk-container-id-3 input.sk-hidden--visually {border: 0;clip: rect(1px 1px 1px 1px);clip: rect(1px, 1px, 1px, 1px);height: 1px;margin: -1px;overflow: hidden;padding: 0;position: absolute;width: 1px;}#sk-container-id-3 div.sk-estimator {font-family: monospace;background-color: #f0f8ff;border: 1px dotted black;border-radius: 0.25em;box-sizing: border-box;margin-bottom: 0.5em;}#sk-container-id-3 div.sk-estimator:hover {background-color: #d4ebff;}#sk-container-id-3 div.sk-parallel-item::after {content: \"\";width: 100%;border-bottom: 1px solid gray;flex-grow: 1;}#sk-container-id-3 div.sk-label:hover label.sk-toggleable__label {background-color: #d4ebff;}#sk-container-id-3 div.sk-serial::before {content: \"\";position: absolute;border-left: 1px solid gray;box-sizing: border-box;top: 0;bottom: 0;left: 50%;z-index: 0;}#sk-container-id-3 div.sk-serial {display: flex;flex-direction: column;align-items: center;background-color: white;padding-right: 0.2em;padding-left: 0.2em;position: relative;}#sk-container-id-3 div.sk-item {position: relative;z-index: 1;}#sk-container-id-3 div.sk-parallel {display: flex;align-items: stretch;justify-content: center;background-color: white;position: relative;}#sk-container-id-3 div.sk-item::before, #sk-container-id-3 div.sk-parallel-item::before {content: \"\";position: absolute;border-left: 1px solid gray;box-sizing: border-box;top: 0;bottom: 0;left: 50%;z-index: -1;}#sk-container-id-3 div.sk-parallel-item {display: flex;flex-direction: column;z-index: 1;position: relative;background-color: white;}#sk-container-id-3 div.sk-parallel-item:first-child::after {align-self: flex-end;width: 50%;}#sk-container-id-3 div.sk-parallel-item:last-child::after {align-self: flex-start;width: 50%;}#sk-container-id-3 div.sk-parallel-item:only-child::after {width: 0;}#sk-container-id-3 div.sk-dashed-wrapped {border: 1px dashed gray;margin: 0 0.4em 0.5em 0.4em;box-sizing: border-box;padding-bottom: 0.4em;background-color: white;}#sk-container-id-3 div.sk-label label {font-family: monospace;font-weight: bold;display: inline-block;line-height: 1.2em;}#sk-container-id-3 div.sk-label-container {text-align: center;}#sk-container-id-3 div.sk-container {/* jupyter's `normalize.less` sets `[hidden] { display: none; }` but bootstrap.min.css set `[hidden] { display: none !important; }` so we also need the `!important` here to be able to override the default hidden behavior on the sphinx rendered scikit-learn.org. See: https://github.com/scikit-learn/scikit-learn/issues/21755 */display: inline-block !important;position: relative;}#sk-container-id-3 div.sk-text-repr-fallback {display: none;}</style><div id=\"sk-container-id-3\" class=\"sk-top-container\"><div class=\"sk-text-repr-fallback\"><pre>RandomForestClassifier(class_weight=&#x27;balanced&#x27;, min_samples_leaf=4,\n",
       "                       random_state=42)</pre><b>In a Jupyter environment, please rerun this cell to show the HTML representation or trust the notebook. <br />On GitHub, the HTML representation is unable to render, please try loading this page with nbviewer.org.</b></div><div class=\"sk-container\" hidden><div class=\"sk-item\"><div class=\"sk-estimator sk-toggleable\"><input class=\"sk-toggleable__control sk-hidden--visually\" id=\"sk-estimator-id-5\" type=\"checkbox\" checked><label for=\"sk-estimator-id-5\" class=\"sk-toggleable__label sk-toggleable__label-arrow\">RandomForestClassifier</label><div class=\"sk-toggleable__content\"><pre>RandomForestClassifier(class_weight=&#x27;balanced&#x27;, min_samples_leaf=4,\n",
       "                       random_state=42)</pre></div></div></div></div></div>"
      ],
      "text/plain": [
       "RandomForestClassifier(class_weight='balanced', min_samples_leaf=4,\n",
       "                       random_state=42)"
      ]
     },
     "execution_count": 13,
     "metadata": {},
     "output_type": "execute_result"
    }
   ],
   "source": [
    "model = grid_search.best_estimator_\n",
    "model"
   ]
  },
  {
   "cell_type": "code",
   "execution_count": 14,
   "metadata": {},
   "outputs": [
    {
     "name": "stdout",
     "output_type": "stream",
     "text": [
      "\n",
      "      Accuracy : 0.886\n",
      "      Precision Score : 0.886\n",
      "      Recall Score : 0.886\n",
      "      F1 Score : 0.886\n",
      "      \n"
     ]
    }
   ],
   "source": [
    "y_pred = model.predict(X_test)\n",
    "accuracy = accuracy_score(y_test, y_pred)\n",
    "precision = precision_score(y_test, y_pred, average=\"micro\")\n",
    "recall = recall_score(y_test, y_pred, average=\"micro\")\n",
    "f1 = f1_score(y_test, y_pred, average=\"micro\")\n",
    "\n",
    "print(f\"\"\"\n",
    "      Accuracy : {accuracy:.3f}\n",
    "      Precision Score : {precision:.3f}\n",
    "      Recall Score : {recall:.3f}\n",
    "      F1 Score : {f1:.3f}\n",
    "      \"\"\")"
   ]
  },
  {
   "cell_type": "code",
   "execution_count": 15,
   "metadata": {},
   "outputs": [
    {
     "name": "stdout",
     "output_type": "stream",
     "text": [
      "              precision    recall  f1-score   support\n",
      "\n",
      "           0       0.95      0.87      0.91       145\n",
      "           1       0.89      0.90      0.90       122\n",
      "           2       0.87      0.86      0.86       126\n",
      "           3       0.90      0.89      0.89       116\n",
      "           4       0.89      0.87      0.88       134\n",
      "           5       0.85      0.91      0.88       129\n",
      "           6       0.89      0.87      0.88       126\n",
      "           7       0.83      0.94      0.88       102\n",
      "\n",
      "    accuracy                           0.89      1000\n",
      "   macro avg       0.89      0.89      0.89      1000\n",
      "weighted avg       0.89      0.89      0.89      1000\n",
      "\n"
     ]
    }
   ],
   "source": [
    "print(classification_report(y_test, y_pred))"
   ]
  },
  {
   "cell_type": "code",
   "execution_count": 16,
   "metadata": {},
   "outputs": [
    {
     "data": {
      "image/png": "[encoded data removed]",
      "text/plain": [
       "<Figure size 1200x800 with 2 Axes>"
      ]
     },
     "metadata": {},
     "output_type": "display_data"
    }
   ],
   "source": [
    "# Hitung confusion matrix\n",
    "confuse = confusion_matrix(y_test, y_pred)\n",
    "\n",
    "# Buat heatmap dengan angka integer\n",
    "fig, ax = plt.subplots(figsize=(12, 8))\n",
    "sns.heatmap(confuse, annot=True, fmt='d', linecolor=\"white\", linewidths=.2, cmap=\"winter\", ax=ax)\n",
    "ax.set_title(\"Confusion Matrix\")\n",
    "plt.tight_layout()\n",
    "plt.show()"
   ]
  },
  {
   "cell_type": "code",
   "execution_count": 17,
   "metadata": {},
   "outputs": [
    {
     "name": "stdout",
     "output_type": "stream",
     "text": [
      "1 0.0\n",
      "2 2.5368517456884625\n",
      "3 0.0\n",
      "4 97.46314825431153\n",
      "5 0.0\n",
      "6 0.0\n",
      "7 0.0\n",
      "8 0.0\n"
     ]
    }
   ],
   "source": [
    "a = model.predict_proba(X_test.iloc[-1:, :])\n",
    "for i, j in enumerate(a.ravel()):\n",
    "    print(i+1, f\"{j*100}\")"
   ]
  },
  {
   "cell_type": "code",
   "execution_count": 18,
   "metadata": {},
   "outputs": [
    {
     "data": {
      "text/plain": [
       "['./model_save/model8.pkl']"
      ]
     },
     "execution_count": 18,
     "metadata": {},
     "output_type": "execute_result"
    }
   ],
   "source": [
    "import joblib\n",
    "\n",
    "joblib.dump(model, \"./model_save/model8.pkl\")"
   ]
  },
  {
   "cell_type": "code",
   "execution_count": null,
   "metadata": {},
   "outputs": [],
   "source": []
  }
 ],
 "metadata": {
  "kernelspec": {
   "display_name": "Python 3",
   "language": "python",
   "name": "python3"
  },
  "language_info": {
   "codemirror_mode": {
    "name": "ipython",
    "version": 3
   },
   "file_extension": ".py",
   "mimetype": "text/x-python",
   "name": "python",
   "nbconvert_exporter": "python",
   "pygments_lexer": "ipython3",
   "version": "3.9.6"
  }
 },
 "nbformat": 4,
 "nbformat_minor": 2
}
